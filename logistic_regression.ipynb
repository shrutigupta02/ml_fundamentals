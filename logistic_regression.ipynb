{
 "cells": [
  {
   "cell_type": "markdown",
   "id": "2c241cab-8f5f-43c0-ab73-de43079ed591",
   "metadata": {},
   "source": [
    "# Logistic Regression"
   ]
  },
  {
   "cell_type": "markdown",
   "id": "1b31e713-1181-4ba5-a4da-077f59ce207a",
   "metadata": {},
   "source": [
    "Logistic regression models are efficient for predicting a probability of an event occuring.\n",
    "For example: Rain prediction, Game outcome prediction, etc."
   ]
  },
  {
   "cell_type": "markdown",
   "id": "d20f8c7a-1265-46a7-8027-378b227f7aaf",
   "metadata": {},
   "source": [
    "## Sigmoid function"
   ]
  },
  {
   "cell_type": "markdown",
   "id": "6e3b9abc-c52e-4559-af5a-7be5a255ec80",
   "metadata": {},
   "source": [
    "Sigmoid means s-shaped, sigmoid function gives an s shaped curve within the range of 0-1.\n",
    "As the input (x) increases, the output (y) reaches but never touches 1, and similarly, when the input decreases, the output reaches but never touches 0."
   ]
  },
  {
   "cell_type": "markdown",
   "id": "742bf612-2d29-4e58-ad8e-b3ffa3a9901c",
   "metadata": {},
   "source": [
    "### Log Odds"
   ]
  },
  {
   "cell_type": "markdown",
   "id": "3c9d0e9e-ded2-4988-9104-531b4b0b45c9",
   "metadata": {},
   "source": [
    "There is a linear component of the logistic regression model : z\n",
    "\n",
    "Z is the log odd of the model"
   ]
  }
 ],
 "metadata": {
  "kernelspec": {
   "display_name": "Python 3 (ipykernel)",
   "language": "python",
   "name": "python3"
  },
  "language_info": {
   "codemirror_mode": {
    "name": "ipython",
    "version": 3
   },
   "file_extension": ".py",
   "mimetype": "text/x-python",
   "name": "python",
   "nbconvert_exporter": "python",
   "pygments_lexer": "ipython3",
   "version": "3.12.4"
  }
 },
 "nbformat": 4,
 "nbformat_minor": 5
}
