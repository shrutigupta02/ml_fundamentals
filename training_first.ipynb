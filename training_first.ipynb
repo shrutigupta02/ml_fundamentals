{
 "cells": [
  {
   "cell_type": "code",
   "execution_count": 1,
   "id": "f9fcde2d-3e3c-4083-8aa7-e4ad0f7cec48",
   "metadata": {},
   "outputs": [],
   "source": [
    "import io\n",
    "import numpy as np\n",
    "import pandas as pd\n",
    "import keras\n",
    "import seaborn as sns\n",
    "import plotly.express as px\n",
    "from plotly.subplots import make_subplots\n",
    "import plotly.graph_objects as go"
   ]
  },
  {
   "cell_type": "code",
   "execution_count": 2,
   "id": "cc6836cc-bab4-4610-a5b4-752e9d1f53b3",
   "metadata": {},
   "outputs": [],
   "source": [
    "df = pd.DataFrame(np.random.rand(200, 6))"
   ]
  },
  {
   "cell_type": "code",
   "execution_count": 3,
   "id": "d58b92dc-4561-428f-a014-16ab63925105",
   "metadata": {},
   "outputs": [
    {
     "data": {
      "text/html": [
       "<div>\n",
       "<style scoped>\n",
       "    .dataframe tbody tr th:only-of-type {\n",
       "        vertical-align: middle;\n",
       "    }\n",
       "\n",
       "    .dataframe tbody tr th {\n",
       "        vertical-align: top;\n",
       "    }\n",
       "\n",
       "    .dataframe thead th {\n",
       "        text-align: right;\n",
       "    }\n",
       "</style>\n",
       "<table border=\"1\" class=\"dataframe\">\n",
       "  <thead>\n",
       "    <tr style=\"text-align: right;\">\n",
       "      <th></th>\n",
       "      <th>0</th>\n",
       "      <th>1</th>\n",
       "      <th>2</th>\n",
       "      <th>3</th>\n",
       "      <th>4</th>\n",
       "      <th>5</th>\n",
       "    </tr>\n",
       "  </thead>\n",
       "  <tbody>\n",
       "    <tr>\n",
       "      <th>count</th>\n",
       "      <td>200.000000</td>\n",
       "      <td>200.000000</td>\n",
       "      <td>200.000000</td>\n",
       "      <td>200.000000</td>\n",
       "      <td>200.000000</td>\n",
       "      <td>200.000000</td>\n",
       "    </tr>\n",
       "    <tr>\n",
       "      <th>mean</th>\n",
       "      <td>0.490882</td>\n",
       "      <td>0.488649</td>\n",
       "      <td>0.483251</td>\n",
       "      <td>0.517662</td>\n",
       "      <td>0.477526</td>\n",
       "      <td>0.485938</td>\n",
       "    </tr>\n",
       "    <tr>\n",
       "      <th>std</th>\n",
       "      <td>0.291734</td>\n",
       "      <td>0.281928</td>\n",
       "      <td>0.315108</td>\n",
       "      <td>0.303001</td>\n",
       "      <td>0.299485</td>\n",
       "      <td>0.297701</td>\n",
       "    </tr>\n",
       "    <tr>\n",
       "      <th>min</th>\n",
       "      <td>0.004397</td>\n",
       "      <td>0.007053</td>\n",
       "      <td>0.000756</td>\n",
       "      <td>0.001989</td>\n",
       "      <td>0.004902</td>\n",
       "      <td>0.004614</td>\n",
       "    </tr>\n",
       "    <tr>\n",
       "      <th>25%</th>\n",
       "      <td>0.231285</td>\n",
       "      <td>0.253504</td>\n",
       "      <td>0.200502</td>\n",
       "      <td>0.231395</td>\n",
       "      <td>0.196270</td>\n",
       "      <td>0.222995</td>\n",
       "    </tr>\n",
       "    <tr>\n",
       "      <th>50%</th>\n",
       "      <td>0.486069</td>\n",
       "      <td>0.495548</td>\n",
       "      <td>0.489603</td>\n",
       "      <td>0.533207</td>\n",
       "      <td>0.465559</td>\n",
       "      <td>0.490857</td>\n",
       "    </tr>\n",
       "    <tr>\n",
       "      <th>75%</th>\n",
       "      <td>0.735415</td>\n",
       "      <td>0.706138</td>\n",
       "      <td>0.740027</td>\n",
       "      <td>0.779257</td>\n",
       "      <td>0.742798</td>\n",
       "      <td>0.736672</td>\n",
       "    </tr>\n",
       "    <tr>\n",
       "      <th>max</th>\n",
       "      <td>0.998243</td>\n",
       "      <td>0.997212</td>\n",
       "      <td>0.993103</td>\n",
       "      <td>0.995156</td>\n",
       "      <td>0.998414</td>\n",
       "      <td>0.974800</td>\n",
       "    </tr>\n",
       "  </tbody>\n",
       "</table>\n",
       "</div>"
      ],
      "text/plain": [
       "                0           1           2           3           4           5\n",
       "count  200.000000  200.000000  200.000000  200.000000  200.000000  200.000000\n",
       "mean     0.490882    0.488649    0.483251    0.517662    0.477526    0.485938\n",
       "std      0.291734    0.281928    0.315108    0.303001    0.299485    0.297701\n",
       "min      0.004397    0.007053    0.000756    0.001989    0.004902    0.004614\n",
       "25%      0.231285    0.253504    0.200502    0.231395    0.196270    0.222995\n",
       "50%      0.486069    0.495548    0.489603    0.533207    0.465559    0.490857\n",
       "75%      0.735415    0.706138    0.740027    0.779257    0.742798    0.736672\n",
       "max      0.998243    0.997212    0.993103    0.995156    0.998414    0.974800"
      ]
     },
     "execution_count": 3,
     "metadata": {},
     "output_type": "execute_result"
    }
   ],
   "source": [
    "df.describe(include='all')"
   ]
  },
  {
   "cell_type": "code",
   "execution_count": 4,
   "id": "f12f7d1e-68ff-4b89-8159-2b33e4e6b811",
   "metadata": {},
   "outputs": [
    {
     "data": {
      "text/html": [
       "<div>\n",
       "<style scoped>\n",
       "    .dataframe tbody tr th:only-of-type {\n",
       "        vertical-align: middle;\n",
       "    }\n",
       "\n",
       "    .dataframe tbody tr th {\n",
       "        vertical-align: top;\n",
       "    }\n",
       "\n",
       "    .dataframe thead th {\n",
       "        text-align: right;\n",
       "    }\n",
       "</style>\n",
       "<table border=\"1\" class=\"dataframe\">\n",
       "  <thead>\n",
       "    <tr style=\"text-align: right;\">\n",
       "      <th></th>\n",
       "      <th>0</th>\n",
       "      <th>1</th>\n",
       "      <th>2</th>\n",
       "      <th>3</th>\n",
       "      <th>4</th>\n",
       "      <th>5</th>\n",
       "    </tr>\n",
       "  </thead>\n",
       "  <tbody>\n",
       "    <tr>\n",
       "      <th>0</th>\n",
       "      <td>1.000000</td>\n",
       "      <td>0.028846</td>\n",
       "      <td>-0.080261</td>\n",
       "      <td>0.071279</td>\n",
       "      <td>0.157581</td>\n",
       "      <td>0.079100</td>\n",
       "    </tr>\n",
       "    <tr>\n",
       "      <th>1</th>\n",
       "      <td>0.028846</td>\n",
       "      <td>1.000000</td>\n",
       "      <td>-0.155563</td>\n",
       "      <td>0.022409</td>\n",
       "      <td>0.154452</td>\n",
       "      <td>0.127633</td>\n",
       "    </tr>\n",
       "    <tr>\n",
       "      <th>2</th>\n",
       "      <td>-0.080261</td>\n",
       "      <td>-0.155563</td>\n",
       "      <td>1.000000</td>\n",
       "      <td>-0.026262</td>\n",
       "      <td>-0.088147</td>\n",
       "      <td>-0.103559</td>\n",
       "    </tr>\n",
       "    <tr>\n",
       "      <th>3</th>\n",
       "      <td>0.071279</td>\n",
       "      <td>0.022409</td>\n",
       "      <td>-0.026262</td>\n",
       "      <td>1.000000</td>\n",
       "      <td>0.107722</td>\n",
       "      <td>-0.004292</td>\n",
       "    </tr>\n",
       "    <tr>\n",
       "      <th>4</th>\n",
       "      <td>0.157581</td>\n",
       "      <td>0.154452</td>\n",
       "      <td>-0.088147</td>\n",
       "      <td>0.107722</td>\n",
       "      <td>1.000000</td>\n",
       "      <td>0.096646</td>\n",
       "    </tr>\n",
       "    <tr>\n",
       "      <th>5</th>\n",
       "      <td>0.079100</td>\n",
       "      <td>0.127633</td>\n",
       "      <td>-0.103559</td>\n",
       "      <td>-0.004292</td>\n",
       "      <td>0.096646</td>\n",
       "      <td>1.000000</td>\n",
       "    </tr>\n",
       "  </tbody>\n",
       "</table>\n",
       "</div>"
      ],
      "text/plain": [
       "          0         1         2         3         4         5\n",
       "0  1.000000  0.028846 -0.080261  0.071279  0.157581  0.079100\n",
       "1  0.028846  1.000000 -0.155563  0.022409  0.154452  0.127633\n",
       "2 -0.080261 -0.155563  1.000000 -0.026262 -0.088147 -0.103559\n",
       "3  0.071279  0.022409 -0.026262  1.000000  0.107722 -0.004292\n",
       "4  0.157581  0.154452 -0.088147  0.107722  1.000000  0.096646\n",
       "5  0.079100  0.127633 -0.103559 -0.004292  0.096646  1.000000"
      ]
     },
     "execution_count": 4,
     "metadata": {},
     "output_type": "execute_result"
    }
   ],
   "source": [
    "df.corr()"
   ]
  },
  {
   "cell_type": "code",
   "execution_count": 5,
   "id": "30fe91d6-2ce0-4758-b09a-ae1b9c8f1c15",
   "metadata": {},
   "outputs": [
    {
     "data": {
      "text/plain": [
       "<seaborn.axisgrid.PairGrid at 0x3035dfe90>"
      ]
     },
     "execution_count": 5,
     "metadata": {},
     "output_type": "execute_result"
    },
    {
     "data": {
      "image/png": "[encoded data removed]",
      "text/plain": [
       "<Figure size 750x750 with 12 Axes>"
      ]
     },
     "metadata": {},
     "output_type": "display_data"
    }
   ],
   "source": [
    "sns.pairplot(df.corr(), x_vars = [0, 1, 2], y_vars = [0, 1, 2]) #its so cool i'mlosing my mind"
   ]
  },
  {
   "cell_type": "markdown",
   "id": "937852bb-9c07-45c9-9c59-158de21bacef",
   "metadata": {},
   "source": [
    "## Here, we start building and training models\n",
    "### Starting with defining functions to view model info"
   ]
  },
  {
   "cell_type": "markdown",
   "id": "2f7c2631-2614-478f-951c-4a3730d30af2",
   "metadata": {},
   "source": [
    "def make_plots(df, feature_names, label_names, model_output, sample_size = 200):\n",
    "    random_sample = df.sample(n=sample_size).copy()\n",
    "    random_sample.reset_index()\n",
    "    weights, bias, epochs, rmse = model_output\n",
    "    "
   ]
  },
  {
   "cell_type": "code",
   "execution_count": null,
   "id": "a43e1bfc-0806-4b3e-a146-e1d9e7e70c04",
   "metadata": {},
   "outputs": [],
   "source": []
  }
 ],
 "metadata": {
  "kernelspec": {
   "display_name": "Python 3 (ipykernel)",
   "language": "python",
   "name": "python3"
  },
  "language_info": {
   "codemirror_mode": {
    "name": "ipython",
    "version": 3
   },
   "file_extension": ".py",
   "mimetype": "text/x-python",
   "name": "python",
   "nbconvert_exporter": "python",
   "pygments_lexer": "ipython3",
   "version": "3.12.4"
  }
 },
 "nbformat": 4,
 "nbformat_minor": 5
}
