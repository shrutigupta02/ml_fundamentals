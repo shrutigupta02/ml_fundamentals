{
 "cells": [
  {
   "cell_type": "markdown",
   "id": "b84e9426-60fc-486e-8471-cd1e3c5b207d",
   "metadata": {},
   "source": [
    "**Classification threshold**: A threshold probablity set where predictions beyond it are classified into the positive class and classifications below it are classfified into the negative class."
   ]
  },
  {
   "cell_type": "markdown",
   "id": "9b89e00f-132b-46dd-8242-87cd079f6485",
   "metadata": {},
   "source": [
    "*Q. What if the predicted output is exactly that of the threshold value?*\n",
    "\n",
    "ans: Keras library classifies the example into the negative class if the predicted probablity is equal to the threshold value."
   ]
  },
  {
   "cell_type": "markdown",
   "id": "f8009ecd-a436-4eec-9f65-b4ff1d53279c",
   "metadata": {},
   "source": [
    "### Confusion Matrix"
   ]
  },
  {
   "cell_type": "markdown",
   "id": "ab71f0dc-7463-4e9e-90ee-2e315bffc9a3",
   "metadata": {},
   "source": [
    "There are four possible outcomes of any prediction made by the binary classification model.\n",
    "#### Namely:\n",
    "**True Positive**: An actual positive example classified into positive class.\n",
    "\n",
    "**False Positive**: An actual negative example classified into positive class.\n",
    "\n",
    "**True Negative**: An actual negative example classified into negative class.\n",
    "\n",
    "**False negative**: An actual positive example classified into negative class."
   ]
  },
  {
   "cell_type": "markdown",
   "id": "e4af7626-da99-42ff-99af-b7fed58bcbd6",
   "metadata": {},
   "source": [
    "### Accuracy:\n"
   ]
  },
  {
   "cell_type": "markdown",
   "id": "f0463dbd-56bd-4af0-a470-3e42731779d3",
   "metadata": {},
   "source": [
    "Total true classification / Total classifications = (TN + TP) / (TN + TP + FN + FP)"
   ]
  },
  {
   "cell_type": "code",
   "execution_count": null,
   "id": "896ef9df-8aa2-4f8a-8256-039e4efc3976",
   "metadata": {},
   "outputs": [],
   "source": []
  }
 ],
 "metadata": {
  "kernelspec": {
   "display_name": "Python 3 (ipykernel)",
   "language": "python",
   "name": "python3"
  },
  "language_info": {
   "codemirror_mode": {
    "name": "ipython",
    "version": 3
   },
   "file_extension": ".py",
   "mimetype": "text/x-python",
   "name": "python",
   "nbconvert_exporter": "python",
   "pygments_lexer": "ipython3",
   "version": "3.12.4"
  }
 },
 "nbformat": 4,
 "nbformat_minor": 5
}
