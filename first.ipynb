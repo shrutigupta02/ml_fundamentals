{
 "cells": [
  {
   "cell_type": "code",
   "execution_count": 1,
   "id": "7ff4a095-d656-48cb-aa62-3327b0613b7c",
   "metadata": {},
   "outputs": [],
   "source": [
    "import numpy as np"
   ]
  },
  {
   "cell_type": "code",
   "execution_count": 2,
   "id": "aa9e76c7-ec69-4d86-8946-80c440da4e27",
   "metadata": {},
   "outputs": [
    {
     "name": "stdout",
     "output_type": "stream",
     "text": [
      "hello\n"
     ]
    }
   ],
   "source": [
    "print(\"hello\")"
   ]
  },
  {
   "cell_type": "code",
   "execution_count": 3,
   "id": "325eaf79-91b2-45fe-844a-c51c4ffdd2b1",
   "metadata": {},
   "outputs": [],
   "source": [
    "myarr = np.array([1,2,3,4,5,6])"
   ]
  },
  {
   "cell_type": "code",
   "execution_count": 4,
   "id": "bb5ec760-49e5-4588-bcb0-f05b001bac88",
   "metadata": {},
   "outputs": [
    {
     "data": {
      "text/plain": [
       "array([1, 2, 3, 4, 5, 6])"
      ]
     },
     "execution_count": 4,
     "metadata": {},
     "output_type": "execute_result"
    }
   ],
   "source": [
    "myarr"
   ]
  },
  {
   "cell_type": "code",
   "execution_count": 5,
   "id": "a292454b-3875-4c59-b640-22813a1b51a8",
   "metadata": {},
   "outputs": [],
   "source": [
    "myarr = myarr.reshape(2,3)"
   ]
  },
  {
   "cell_type": "code",
   "execution_count": 6,
   "id": "f3031369-89ed-4a60-9eff-6473bd04aacd",
   "metadata": {},
   "outputs": [
    {
     "data": {
      "text/plain": [
       "array([[1, 2, 3],\n",
       "       [4, 5, 6]])"
      ]
     },
     "execution_count": 6,
     "metadata": {},
     "output_type": "execute_result"
    }
   ],
   "source": [
    "myarr"
   ]
  },
  {
   "cell_type": "code",
   "execution_count": 7,
   "id": "9f940c0a-1249-4227-b524-f650d85f6e34",
   "metadata": {},
   "outputs": [
    {
     "data": {
      "text/plain": [
       "array([1, 2, 3, 4, 5, 6])"
      ]
     },
     "execution_count": 7,
     "metadata": {},
     "output_type": "execute_result"
    }
   ],
   "source": [
    "myarr.ravel()"
   ]
  },
  {
   "cell_type": "code",
   "execution_count": 8,
   "id": "07d15297-19d5-4257-94de-e03913b93a20",
   "metadata": {},
   "outputs": [],
   "source": [
    "myarr = np.zeros(45)"
   ]
  },
  {
   "cell_type": "code",
   "execution_count": 9,
   "id": "1416707a-e018-45bb-84e6-fcf30eb3f424",
   "metadata": {},
   "outputs": [
    {
     "data": {
      "text/plain": [
       "array([0., 0., 0., 0., 0., 0., 0., 0., 0., 0., 0., 0., 0., 0., 0., 0., 0.,\n",
       "       0., 0., 0., 0., 0., 0., 0., 0., 0., 0., 0., 0., 0., 0., 0., 0., 0.,\n",
       "       0., 0., 0., 0., 0., 0., 0., 0., 0., 0., 0.])"
      ]
     },
     "execution_count": 9,
     "metadata": {},
     "output_type": "execute_result"
    }
   ],
   "source": [
    "myarr"
   ]
  },
  {
   "cell_type": "code",
   "execution_count": 10,
   "id": "2138f5f8-f020-4c1b-8330-286a31df194e",
   "metadata": {},
   "outputs": [],
   "source": [
    "x = [[1,2,3], [4,5,6], [7,8,9]]"
   ]
  },
  {
   "cell_type": "code",
   "execution_count": 11,
   "id": "dc3bb318-066d-404c-976d-c48ea297bcb0",
   "metadata": {},
   "outputs": [],
   "source": [
    "arr = np.array(x)"
   ]
  },
  {
   "cell_type": "code",
   "execution_count": 12,
   "id": "d3f915d2-389c-4a69-a91d-d1fce73aa1a7",
   "metadata": {},
   "outputs": [
    {
     "data": {
      "text/plain": [
       "array([[1, 2, 3],\n",
       "       [4, 5, 6],\n",
       "       [7, 8, 9]])"
      ]
     },
     "execution_count": 12,
     "metadata": {},
     "output_type": "execute_result"
    }
   ],
   "source": [
    "arr"
   ]
  },
  {
   "cell_type": "code",
   "execution_count": 13,
   "id": "2442c30e-77f4-4e8b-8079-3bd87b21aab3",
   "metadata": {},
   "outputs": [
    {
     "data": {
      "text/plain": [
       "array([ 6, 15, 24])"
      ]
     },
     "execution_count": 13,
     "metadata": {},
     "output_type": "execute_result"
    }
   ],
   "source": [
    "arr.sum(axis = 1) #column"
   ]
  },
  {
   "cell_type": "code",
   "execution_count": 14,
   "id": "e07ccfdc-57f6-47bb-88fb-aec1bd63a7ed",
   "metadata": {},
   "outputs": [
    {
     "data": {
      "text/plain": [
       "array([12, 15, 18])"
      ]
     },
     "execution_count": 14,
     "metadata": {},
     "output_type": "execute_result"
    }
   ],
   "source": [
    "arr.sum(axis = 0) #row"
   ]
  },
  {
   "cell_type": "code",
   "execution_count": 15,
   "id": "7ebe7636-fdbe-4f69-9725-e0cad8f09f70",
   "metadata": {},
   "outputs": [],
   "source": [
    "arr = np.array([[7,3,9],[1,3,2],[8,1,2]])"
   ]
  },
  {
   "cell_type": "code",
   "execution_count": 16,
   "id": "58e6e4c4-8f02-401b-8524-d504885d4408",
   "metadata": {},
   "outputs": [
    {
     "data": {
      "text/plain": [
       "array([[7, 3, 9],\n",
       "       [1, 3, 2],\n",
       "       [8, 1, 2]])"
      ]
     },
     "execution_count": 16,
     "metadata": {},
     "output_type": "execute_result"
    }
   ],
   "source": [
    "arr"
   ]
  },
  {
   "cell_type": "code",
   "execution_count": 17,
   "id": "a3bd5b95-44a9-4e18-a3ea-e9baa05bd106",
   "metadata": {},
   "outputs": [
    {
     "data": {
      "text/plain": [
       "3"
      ]
     },
     "execution_count": 17,
     "metadata": {},
     "output_type": "execute_result"
    }
   ],
   "source": [
    "arr.argmin()"
   ]
  },
  {
   "cell_type": "code",
   "execution_count": 18,
   "id": "deb3fb6b-cb8d-4552-a47c-1678bb477b52",
   "metadata": {},
   "outputs": [
    {
     "data": {
      "text/plain": [
       "2"
      ]
     },
     "execution_count": 18,
     "metadata": {},
     "output_type": "execute_result"
    }
   ],
   "source": [
    "arr.argmax()"
   ]
  },
  {
   "cell_type": "code",
   "execution_count": 19,
   "id": "5670004d-ae6f-4d2d-aba8-57e7f4255d50",
   "metadata": {},
   "outputs": [
    {
     "data": {
      "text/plain": [
       "array([[1, 0, 2],\n",
       "       [0, 2, 1],\n",
       "       [1, 2, 0]])"
      ]
     },
     "execution_count": 19,
     "metadata": {},
     "output_type": "execute_result"
    }
   ],
   "source": [
    "arr.argsort() #gives indexes of elements in ascending order "
   ]
  },
  {
   "cell_type": "code",
   "execution_count": 20,
   "id": "10e31e45-5c0a-4c83-9d3f-1f8f06dec4ad",
   "metadata": {},
   "outputs": [
    {
     "data": {
      "text/plain": [
       "array([1, 2, 1])"
      ]
     },
     "execution_count": 20,
     "metadata": {},
     "output_type": "execute_result"
    }
   ],
   "source": [
    "arr.argmin(axis = 0) #gives min in each col"
   ]
  },
  {
   "cell_type": "code",
   "execution_count": 21,
   "id": "0211ac53-16f5-4125-8dde-7421c55a4d7d",
   "metadata": {},
   "outputs": [
    {
     "data": {
      "text/plain": [
       "array([1, 0, 1])"
      ]
     },
     "execution_count": 21,
     "metadata": {},
     "output_type": "execute_result"
    }
   ],
   "source": [
    "arr.argmin(axis = 1)"
   ]
  },
  {
   "cell_type": "code",
   "execution_count": 48,
   "id": "2851a45c-ff64-4b98-b6fb-c1deefe9f811",
   "metadata": {},
   "outputs": [],
   "source": [
    "arr = arr.ravel()"
   ]
  },
  {
   "cell_type": "code",
   "execution_count": 52,
   "id": "b3886637-8810-4f91-997d-2ddb2c0c52a5",
   "metadata": {},
   "outputs": [
    {
     "data": {
      "text/plain": [
       "array([[7],\n",
       "       [3],\n",
       "       [9],\n",
       "       [1],\n",
       "       [3],\n",
       "       [2],\n",
       "       [8],\n",
       "       [1],\n",
       "       [2]])"
      ]
     },
     "execution_count": 52,
     "metadata": {},
     "output_type": "execute_result"
    }
   ],
   "source": [
    "arr.reshape(9,1)"
   ]
  },
  {
   "cell_type": "code",
   "execution_count": 54,
   "id": "77e5a955-4eac-427a-a50d-5d4f765c18a3",
   "metadata": {},
   "outputs": [
    {
     "data": {
      "text/plain": [
       "(array([0, 2, 6]),)"
      ]
     },
     "execution_count": 54,
     "metadata": {},
     "output_type": "execute_result"
    }
   ],
   "source": [
    "np.where(arr > 5)"
   ]
  },
  {
   "cell_type": "code",
   "execution_count": 56,
   "id": "7e38b036-cc56-4eec-8bd1-85755c42c2b3",
   "metadata": {},
   "outputs": [
    {
     "data": {
      "text/plain": [
       "9"
      ]
     },
     "execution_count": 56,
     "metadata": {},
     "output_type": "execute_result"
    }
   ],
   "source": [
    "np.count_nonzero(arr)"
   ]
  },
  {
   "cell_type": "code",
   "execution_count": 58,
   "id": "8ac87be5-8fa2-45b9-a483-9b32bc9413e7",
   "metadata": {},
   "outputs": [
    {
     "data": {
      "text/plain": [
       "(array([0, 1, 2, 3, 4, 5, 6, 7, 8]),)"
      ]
     },
     "execution_count": 58,
     "metadata": {},
     "output_type": "execute_result"
    }
   ],
   "source": [
    "np.nonzero(arr)"
   ]
  },
  {
   "cell_type": "code",
   "execution_count": 66,
   "id": "cc4a8e2b-b5c2-43bc-a4a1-caad58222898",
   "metadata": {},
   "outputs": [],
   "source": [
    "def printSum(a,b):\n",
    "    print(a + b)"
   ]
  },
  {
   "cell_type": "code",
   "execution_count": 68,
   "id": "da6c7b15-3193-4483-b09c-3186a8f4936a",
   "metadata": {},
   "outputs": [
    {
     "name": "stdout",
     "output_type": "stream",
     "text": [
      "6\n"
     ]
    }
   ],
   "source": [
    "printSum(2,4)"
   ]
  },
  {
   "cell_type": "code",
   "execution_count": null,
   "id": "a3ba7295-c795-4271-a7ac-6b7a32d9d2f6",
   "metadata": {},
   "outputs": [],
   "source": []
  }
 ],
 "metadata": {
  "kernelspec": {
   "display_name": "Python 3 (ipykernel)",
   "language": "python",
   "name": "python3"
  },
  "language_info": {
   "codemirror_mode": {
    "name": "ipython",
    "version": 3
   },
   "file_extension": ".py",
   "mimetype": "text/x-python",
   "name": "python",
   "nbconvert_exporter": "python",
   "pygments_lexer": "ipython3",
   "version": "3.12.4"
  }
 },
 "nbformat": 4,
 "nbformat_minor": 5
}
